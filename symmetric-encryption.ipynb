{
 "cells": [
  {
   "cell_type": "markdown",
   "metadata": {
    "slideshow": {
     "slide_type": "notes"
    }
   },
   "source": [
    "# Symmetric Encryption\n",
    "\n",
    "A **cipher** is an algorithm that takes some data in and spits modified data out. It has two methods\n",
    "\n",
    "- **Encrypting mode** *E* takes plaintext *P* along with some key *K* and produces ciphertext *C*: C = E(K,P)\n",
    "- **Decrypting mode** *D* takes ciphertext *C* along with the same key *K* and produces plaintext *P*: P = D(K,C)\n",
    "\n",
    "## Classical Ciphers\n",
    "\n",
    "- work on letters, not bits or bytes\n",
    "- caesar cipher simply shifts letters by X places\n",
    "- vignere cipher shifts based on a key that is wrapped\n",
    "\n",
    "## How Ciphers Work\n",
    "\n",
    "Ciphers operate on two primary base properties, a permutation and a mode of operation.\n",
    "\n",
    "### Permutation\n",
    "\n",
    "A permutation is an operation that has a unique inverse. Example: (a,b,c,d) -> (b,c,d,a). Each element maps to exactly one other and so the operation can be done in the other direction. Permutations should:\n",
    "\n",
    "- be determined by the key\n",
    "- be unique to a given key (two keys should not give the same permutation)\n",
    "- should have no easily identifiable pattern\n",
    "\n",
    "### Mode of Operation\n",
    "\n",
    "The mode of operation should mitigate the exposure of duplicate letters by using multiple permutations. Its primary purpose is to limit frequency analysis or other forms of pattern recognition to break the cipher.\n",
    "\n",
    "## Why Classical Ciphers Are Insecure\n",
    "\n",
    "- limited by computation\n",
    "- limited by number of valid permutations\n",
    "    - there are 2^88 permutation of the alphabet\n",
    "    - many are too complex\n",
    "- there must be a better way!\n",
    "\n",
    "## Perfect Encryption: The One-Time Pad\n",
    "\n",
    "The one time pad takes a plaintext (bit array) *P* length *n* and a random key (bit array) *K* length *n* and performs a bitwise XOR to produce a perfectly encrypted cipher *C*.\n",
    "\n",
    "- extremely effective\n",
    "- extremely inefficient for large data\n",
    "\n",
    "## Encryption Security\n",
    "\n",
    "A cipher is secure that given any number of plaintext-ciphertext pairs an attacker cannot learn anything about how the cipher behaves on other plain- or ciphertexts.\n",
    "\n",
    "- **attack model**: assumptions about what an attacker can and cannot do. How much data do they have access to? How does the attacker attain the data?\n",
    "- **security goals**: description of what is a successful attack. What can be learned? What parts of the cipher do we need to keep secure?\n",
    "\n",
    "A security notion is a description of a cipher containing an attack model and security goals. A cipher achieves a certain security notion if an attacker in a given model cannot achieve the security goal.\n",
    "\n",
    "### Attack Models\n",
    "\n"
   ]
  },
  {
   "cell_type": "code",
   "execution_count": null,
   "metadata": {},
   "outputs": [],
   "source": []
  }
 ],
 "metadata": {
  "kernelspec": {
   "display_name": "Python 3",
   "language": "python",
   "name": "python3"
  },
  "language_info": {
   "codemirror_mode": {
    "name": "ipython",
    "version": 3
   },
   "file_extension": ".py",
   "mimetype": "text/x-python",
   "name": "python",
   "nbconvert_exporter": "python",
   "pygments_lexer": "ipython3",
   "version": "3.6.4rc1"
  }
 },
 "nbformat": 4,
 "nbformat_minor": 2
}
